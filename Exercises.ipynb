{
 "cells": [
  {
   "cell_type": "code",
   "execution_count": 18,
   "metadata": {},
   "outputs": [],
   "source": [
    "import numpy as np\n",
    "import tensorflow as tf"
   ]
  },
  {
   "cell_type": "markdown",
   "metadata": {},
   "source": [
    "Some simple tensorflow exercises"
   ]
  },
  {
   "cell_type": "code",
   "execution_count": 16,
   "metadata": {},
   "outputs": [
    {
     "name": "stdout",
     "output_type": "stream",
     "text": [
      "[3. 3. 3. 3.]\n"
     ]
    }
   ],
   "source": [
    "# create a graph to add two tensors \n",
    "\n",
    "with tf.Session():\n",
    "    a = tf.constant(1.0, shape = [4])\n",
    "    b = tf.constant(2.0, shape = [4])\n",
    "    s = tf.add(a, b)\n",
    "    \n",
    "    print(s.eval())"
   ]
  },
  {
   "cell_type": "code",
   "execution_count": 30,
   "metadata": {},
   "outputs": [
    {
     "name": "stdout",
     "output_type": "stream",
     "text": [
      "total sum: 55\n"
     ]
    }
   ],
   "source": [
    "# create a graph to sum the first 10 numbers \n",
    "\n",
    "with tf.Session() as sess:\n",
    "    \n",
    "    # init vars\n",
    "    tot = tf.Variable(initial_value = tf.constant(0))\n",
    "    i   = tf.Variable(initial_value = tf.constant(1))\n",
    "    \n",
    "    # initialize init vars\n",
    "    tf.global_variables_initializer().run()\n",
    "    \n",
    "    # update var vals\n",
    "    update_tot = tf.assign(ref = tot, value = tf.add(tot, i))\n",
    "    update_i   = tf.assign(ref = i, value = tf.add(i, tf.constant(1)))\n",
    "    \n",
    "    for n in range(10):\n",
    "        sess.run(update_tot)\n",
    "        sess.run(update_i)\n",
    "    \n",
    "    print(\"total sum: {}\".format(tot.eval()))"
   ]
  },
  {
   "cell_type": "code",
   "execution_count": null,
   "metadata": {},
   "outputs": [],
   "source": []
  }
 ],
 "metadata": {
  "kernelspec": {
   "display_name": "Python 2",
   "language": "python",
   "name": "python2"
  },
  "language_info": {
   "codemirror_mode": {
    "name": "ipython",
    "version": 2
   },
   "file_extension": ".py",
   "mimetype": "text/x-python",
   "name": "python",
   "nbconvert_exporter": "python",
   "pygments_lexer": "ipython2",
   "version": "2.7.12"
  }
 },
 "nbformat": 4,
 "nbformat_minor": 2
}
